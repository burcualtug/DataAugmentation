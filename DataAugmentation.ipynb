{
  "nbformat": 4,
  "nbformat_minor": 0,
  "metadata": {
    "colab": {
      "name": "DataAugmentation.ipynb",
      "provenance": [],
      "collapsed_sections": [],
      "include_colab_link": true
    },
    "kernelspec": {
      "name": "python3",
      "display_name": "Python 3"
    },
    "language_info": {
      "name": "python"
    }
  },
  "cells": [
    {
      "cell_type": "markdown",
      "metadata": {
        "id": "view-in-github",
        "colab_type": "text"
      },
      "source": [
        "<a href=\"https://colab.research.google.com/github/burcualtug/DataAugmentation/blob/main/DataAugmentation.ipynb\" target=\"_parent\"><img src=\"https://colab.research.google.com/assets/colab-badge.svg\" alt=\"Open In Colab\"/></a>"
      ]
    },
    {
      "cell_type": "code",
      "source": [
        "%pip install augly"
      ],
      "metadata": {
        "colab": {
          "base_uri": "https://localhost:8080/"
        },
        "id": "TcmoyyHPJTXJ",
        "outputId": "3f0bdb8a-d478-4026-cc46-462cf32a7f47"
      },
      "execution_count": null,
      "outputs": [
        {
          "output_type": "stream",
          "name": "stdout",
          "text": [
            "Requirement already satisfied: augly in /usr/local/lib/python3.7/dist-packages (0.2.1)\n",
            "Requirement already satisfied: python-magic>=0.4.22 in /usr/local/lib/python3.7/dist-packages (from augly) (0.4.24)\n",
            "Requirement already satisfied: Pillow>=8.2.0 in /usr/local/lib/python3.7/dist-packages (from augly) (9.0.0)\n",
            "Requirement already satisfied: nlpaug==1.1.3 in /usr/local/lib/python3.7/dist-packages (from augly) (1.1.3)\n",
            "Requirement already satisfied: vidgear>=0.2.4 in /usr/local/lib/python3.7/dist-packages (from augly) (0.2.4)\n",
            "Requirement already satisfied: regex>=2021.4.4 in /usr/local/lib/python3.7/dist-packages (from augly) (2021.11.10)\n",
            "Requirement already satisfied: iopath>=0.1.8 in /usr/local/lib/python3.7/dist-packages (from augly) (0.1.9)\n",
            "Requirement already satisfied: numpy>=1.19.5 in /usr/local/lib/python3.7/dist-packages (from augly) (1.19.5)\n",
            "Requirement already satisfied: portalocker in /usr/local/lib/python3.7/dist-packages (from iopath>=0.1.8->augly) (2.3.2)\n",
            "Requirement already satisfied: tqdm in /usr/local/lib/python3.7/dist-packages (from iopath>=0.1.8->augly) (4.62.3)\n",
            "Requirement already satisfied: colorlog in /usr/local/lib/python3.7/dist-packages (from vidgear>=0.2.4->augly) (6.6.0)\n",
            "Requirement already satisfied: requests in /usr/local/lib/python3.7/dist-packages (from vidgear>=0.2.4->augly) (2.23.0)\n",
            "Requirement already satisfied: cython in /usr/local/lib/python3.7/dist-packages (from vidgear>=0.2.4->augly) (0.29.24)\n",
            "Requirement already satisfied: chardet<4,>=3.0.2 in /usr/local/lib/python3.7/dist-packages (from requests->vidgear>=0.2.4->augly) (3.0.4)\n",
            "Requirement already satisfied: idna<3,>=2.5 in /usr/local/lib/python3.7/dist-packages (from requests->vidgear>=0.2.4->augly) (2.10)\n",
            "Requirement already satisfied: certifi>=2017.4.17 in /usr/local/lib/python3.7/dist-packages (from requests->vidgear>=0.2.4->augly) (2021.10.8)\n",
            "Requirement already satisfied: urllib3!=1.25.0,!=1.25.1,<1.26,>=1.21.1 in /usr/local/lib/python3.7/dist-packages (from requests->vidgear>=0.2.4->augly) (1.24.3)\n"
          ]
        }
      ]
    },
    {
      "cell_type": "code",
      "source": [
        "!apt-get install libmagic-dev\n",
        "!pip install python-magic\n",
        "!pip3 install --upgrade Pillow"
      ],
      "metadata": {
        "colab": {
          "base_uri": "https://localhost:8080/"
        },
        "id": "Qb7eTTzOJ4yV",
        "outputId": "e757a91d-3dcb-414c-9253-9805e97b9a19"
      },
      "execution_count": null,
      "outputs": [
        {
          "output_type": "stream",
          "name": "stdout",
          "text": [
            "Reading package lists... Done\n",
            "Building dependency tree       \n",
            "Reading state information... Done\n",
            "libmagic-dev is already the newest version (1:5.32-2ubuntu0.4).\n",
            "0 upgraded, 0 newly installed, 0 to remove and 37 not upgraded.\n",
            "Requirement already satisfied: python-magic in /usr/local/lib/python3.7/dist-packages (0.4.24)\n",
            "Requirement already satisfied: Pillow in /usr/local/lib/python3.7/dist-packages (9.0.0)\n"
          ]
        }
      ]
    },
    {
      "cell_type": "code",
      "source": [
        "%pip install progress"
      ],
      "metadata": {
        "colab": {
          "base_uri": "https://localhost:8080/"
        },
        "id": "tskTecHTKyPz",
        "outputId": "5ac1bdf8-1296-4fa3-e0f3-6334cc254e8a"
      },
      "execution_count": null,
      "outputs": [
        {
          "output_type": "stream",
          "name": "stdout",
          "text": [
            "Requirement already satisfied: progress in /usr/local/lib/python3.7/dist-packages (1.6)\n"
          ]
        }
      ]
    },
    {
      "cell_type": "code",
      "source": [
        "\n",
        "import magic\n"
      ],
      "metadata": {
        "id": "IcKPNJmZKpzj"
      },
      "execution_count": null,
      "outputs": []
    },
    {
      "cell_type": "code",
      "source": [
        "import glob\n",
        "import augly.image as imaugs\n",
        "import argparse\n",
        "import random\n",
        "from PIL import Image\n",
        "from progress.bar import IncrementalBar\n",
        "import sys\n",
        "\"\"\"\n",
        "ap = argparse.ArgumentParser()\n",
        "ap.add_argument(\"-s\", \"--source\", help=\"Path of dataset directory\", required=True)\n",
        "ap.add_argument(\"-o\", \"--output\", help=\"Path of augmented data/output directory\", required=True)\n",
        "ap.add_argument(\"-d\", \"--depth\", help=\"Count of augmentation on every image\", required=False)\n",
        "args = vars(ap.parse_args())\n",
        "\"\"\"\n",
        "\n",
        "def random_value():\n",
        "    return random.random()*2 + 10e-5\n",
        "\n",
        "def main():\n",
        "    source = \"/content/drive/MyDrive/TOTAL_birlestirilmis/TOTAL_birlestirilmis/COVID-19\"\n",
        "    output = \"/content/drive/MyDrive/TOTAL_birlestirilmis/TOTAL_birlestirilmis/COVID-19\"\n",
        "    depth = 1\n",
        "\n",
        "    augmentations = [\n",
        "        imaugs.HFlip(), imaugs.RandomAspectRatio(), \n",
        "        imaugs.RandomBlur(), imaugs.RandomBrightness(),\n",
        "        imaugs.RandomNoise(), imaugs.RandomPixelization(),\n",
        "        imaugs.RandomRotation(max_degrees=20), imaugs.ApplyPILFilter(),\n",
        "        imaugs.Saturation(random_value()), imaugs.Contrast(random_value()),\n",
        "        imaugs.ShufflePixels(0.2)\n",
        "        ]\n",
        "\n",
        "    images = glob.glob(source+\"/*.jpg\") + \\\n",
        "             glob.glob(source+\"/*.jpeg\") + \\\n",
        "             glob.glob(source+\"/*.png\")\n",
        "\n",
        "    total = len(images) * depth\n",
        "    bar = IncrementalBar('Augmentation', max = total)\n",
        "\n",
        "    for count,file in enumerate(images):\n",
        "        img = Image.open(file)\n",
        "        random_indexes = random.sample(range(len(augmentations)), 3)\n",
        "        for i, index in enumerate(random_indexes):\n",
        "            augmented = augmentations[index](img)\n",
        "            augmented.save(output+\"/augmented\"+str(count)+str(i)+\".\"+file.split(\".\")[-1])\n",
        "            print(\"tmma\")\n",
        "            bar.next()\n",
        "          \n",
        "\n",
        "    bar.finish()\n",
        "\n",
        "if __name__ == \"__main__\":\n",
        "    main()\n"
      ],
      "metadata": {
        "id": "qJU0klqOJfl1",
        "colab": {
          "base_uri": "https://localhost:8080/"
        },
        "outputId": "9a9310f1-f5b0-4f46-be1c-a4db7998b0fd"
      },
      "execution_count": null,
      "outputs": [
        {
          "output_type": "stream",
          "name": "stdout",
          "text": [
            "tmma\n",
            "tmma\n",
            "tmma\n",
            "tmma\n",
            "tmma\n",
            "tmma\n",
            "tmma\n",
            "tmma\n",
            "tmma\n",
            "tmma\n",
            "tmma\n",
            "tmma\n",
            "tmma\n",
            "tmma\n",
            "tmma\n",
            "tmma\n",
            "tmma\n",
            "tmma\n",
            "tmma\n",
            "tmma\n",
            "tmma\n",
            "tmma\n",
            "tmma\n",
            "tmma\n",
            "tmma\n",
            "tmma\n",
            "tmma\n",
            "tmma\n",
            "tmma\n",
            "tmma\n",
            "tmma\n",
            "tmma\n",
            "tmma\n",
            "tmma\n",
            "tmma\n",
            "tmma\n",
            "tmma\n",
            "tmma\n",
            "tmma\n",
            "tmma\n",
            "tmma\n",
            "tmma\n",
            "tmma\n",
            "tmma\n",
            "tmma\n",
            "tmma\n",
            "tmma\n",
            "tmma\n",
            "tmma\n",
            "tmma\n",
            "tmma\n",
            "tmma\n",
            "tmma\n",
            "tmma\n",
            "tmma\n",
            "tmma\n",
            "tmma\n",
            "tmma\n",
            "tmma\n",
            "tmma\n",
            "tmma\n",
            "tmma\n",
            "tmma\n",
            "tmma\n",
            "tmma\n",
            "tmma\n",
            "tmma\n",
            "tmma\n",
            "tmma\n",
            "tmma\n",
            "tmma\n",
            "tmma\n",
            "tmma\n",
            "tmma\n",
            "tmma\n",
            "tmma\n",
            "tmma\n",
            "tmma\n",
            "tmma\n",
            "tmma\n",
            "tmma\n",
            "tmma\n",
            "tmma\n",
            "tmma\n",
            "tmma\n",
            "tmma\n",
            "tmma\n",
            "tmma\n",
            "tmma\n",
            "tmma\n",
            "tmma\n",
            "tmma\n",
            "tmma\n",
            "tmma\n",
            "tmma\n",
            "tmma\n",
            "tmma\n",
            "tmma\n",
            "tmma\n",
            "tmma\n",
            "tmma\n",
            "tmma\n",
            "tmma\n",
            "tmma\n",
            "tmma\n"
          ]
        }
      ]
    },
    {
      "cell_type": "code",
      "source": [
        "import glob\n",
        "import augly.image as imaugs\n",
        "import argparse\n",
        "import random\n",
        "from PIL import Image\n",
        "from progress.bar import IncrementalBar\n",
        "import sys\n",
        "\"\"\"\n",
        "ap = argparse.ArgumentParser()\n",
        "ap.add_argument(\"-s\", \"--source\", help=\"Path of dataset directory\", required=True)\n",
        "ap.add_argument(\"-o\", \"--output\", help=\"Path of augmented data/output directory\", required=True)\n",
        "ap.add_argument(\"-d\", \"--depth\", help=\"Count of augmentation on every image\", required=False)\n",
        "args = vars(ap.parse_args())\n",
        "\"\"\"\n",
        "\n",
        "def random_value():\n",
        "    return random.random()*2 + 10e-5\n",
        "\n",
        "def main():\n",
        "    source = \"/content/drive/MyDrive/TOTAL_birlestirilmis/TOTAL_birlestirilmis/Viral Pneumonia\"\n",
        "    output = \"/content/drive/MyDrive/TOTAL_birlestirilmis/TOTAL_birlestirilmis/Viral Pneumonia\"\n",
        "    depth = 1\n",
        "\n",
        "    augmentations = [\n",
        "        imaugs.HFlip(), imaugs.RandomAspectRatio(), \n",
        "        imaugs.RandomBlur(), imaugs.RandomBrightness(),\n",
        "        imaugs.RandomNoise(), imaugs.RandomPixelization(),\n",
        "        imaugs.RandomRotation(max_degrees=20), imaugs.ApplyPILFilter(),\n",
        "        imaugs.Saturation(random_value()), imaugs.Contrast(random_value()),\n",
        "        imaugs.ShufflePixels(0.2)\n",
        "        ]\n",
        "\n",
        "    images = glob.glob(source+\"/*.jpg\") + \\\n",
        "             glob.glob(source+\"/*.jpeg\") + \\\n",
        "             glob.glob(source+\"/*.png\")\n",
        "\n",
        "    total = len(images) * depth\n",
        "    bar = IncrementalBar('Augmentation', max = total)\n",
        "\n",
        "    for count,file in enumerate(images):\n",
        "        img = Image.open(file)\n",
        "        random_indexes = random.sample(range(len(augmentations)), 3)\n",
        "        for i, index in enumerate(random_indexes):\n",
        "            augmented = augmentations[index](img)\n",
        "            augmented.save(output+\"/augmented\"+str(count)+str(i)+\".\"+file.split(\".\")[-1])\n",
        "            print(\"tmma\")\n",
        "            bar.next()\n",
        "          \n",
        "\n",
        "    bar.finish()\n",
        "\n",
        "if __name__ == \"__main__\":\n",
        "    main()\n"
      ],
      "metadata": {
        "id": "15Oxlr7s887x"
      },
      "execution_count": null,
      "outputs": []
    },
    {
      "cell_type": "code",
      "source": [
        "from google.colab import drive\n",
        "drive.mount('/content/drive')"
      ],
      "metadata": {
        "id": "TTzAidJA5JqT"
      },
      "execution_count": null,
      "outputs": []
    }
  ]
}